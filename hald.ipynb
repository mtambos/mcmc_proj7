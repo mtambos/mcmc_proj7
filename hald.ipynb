{
 "cells": [
  {
   "cell_type": "code",
   "execution_count": 1,
   "metadata": {},
   "outputs": [
    {
     "ename": "IndentationError",
     "evalue": "expected an indented block (var_selection.py, line 45)",
     "output_type": "error",
     "traceback": [
      "\u001b[1;36m  File \u001b[1;32m\"C:\\Users\\huang\\Desktop\\mcmc_proj7-master\\var_selection.py\"\u001b[1;36m, line \u001b[1;32m45\u001b[0m\n\u001b[1;33m    return truncnorm(a=λ, b=υ, loc=β_bar, scale=τ).rvs()\u001b[0m\n\u001b[1;37m                                                        ^\u001b[0m\n\u001b[1;31mIndentationError\u001b[0m\u001b[1;31m:\u001b[0m expected an indented block\n"
     ]
    }
   ],
   "source": [
    "import var_selection\n",
    "import pandas as pd\n",
    "import numpy as np\n",
    "import matplotlib.pyplot as plt\n",
    "pd.set_option('display.float_format', lambda x: '%.3f' % x)\n",
    "np.set_printoptions(precision=4)"
   ]
  },
  {
   "cell_type": "code",
   "execution_count": 5,
   "metadata": {},
   "outputs": [
    {
     "ename": "NameError",
     "evalue": "name 'pd' is not defined",
     "output_type": "error",
     "traceback": [
      "\u001b[1;31m---------------------------------------------------------------------------\u001b[0m",
      "\u001b[1;31mNameError\u001b[0m                                 Traceback (most recent call last)",
      "\u001b[1;32m<ipython-input-5-3f26fd38b27f>\u001b[0m in \u001b[0;36m<module>\u001b[1;34m()\u001b[0m\n\u001b[1;32m----> 1\u001b[1;33m \u001b[0mpd\u001b[0m\u001b[1;33m.\u001b[0m\u001b[0mset_option\u001b[0m\u001b[1;33m(\u001b[0m\u001b[1;34m'display.float_format'\u001b[0m\u001b[1;33m,\u001b[0m \u001b[1;32mlambda\u001b[0m \u001b[0mx\u001b[0m\u001b[1;33m:\u001b[0m \u001b[1;34m'%.3f'\u001b[0m \u001b[1;33m%\u001b[0m \u001b[0mx\u001b[0m\u001b[1;33m)\u001b[0m\u001b[1;33m\u001b[0m\u001b[0m\n\u001b[0m\u001b[0;32m      2\u001b[0m \u001b[1;33m\u001b[0m\u001b[0m\n\u001b[0;32m      3\u001b[0m \u001b[0mdataset\u001b[0m \u001b[1;33m=\u001b[0m \u001b[0mpd\u001b[0m\u001b[1;33m.\u001b[0m\u001b[0mread_csv\u001b[0m\u001b[1;33m(\u001b[0m\u001b[1;34m'./data/hald_data.csv'\u001b[0m\u001b[1;33m,\u001b[0m \u001b[0mdelimiter\u001b[0m\u001b[1;33m=\u001b[0m\u001b[1;34m''\u001b[0m\u001b[1;33m)\u001b[0m\u001b[1;33m[\u001b[0m\u001b[1;33m[\u001b[0m\u001b[1;34m'Tricalcium_aluminate'\u001b[0m\u001b[1;33m,\u001b[0m\u001b[1;34m'Tricalcium_silicate'\u001b[0m\u001b[1;33m,\u001b[0m\u001b[1;34m'Tetracalcium_alumino_ferrite'\u001b[0m\u001b[1;33m,\u001b[0m\u001b[1;34m'Dicalcium_silicate'\u001b[0m\u001b[1;33m]\u001b[0m\u001b[1;33m]\u001b[0m\u001b[1;33m\u001b[0m\u001b[0m\n\u001b[0;32m      4\u001b[0m \u001b[0mX\u001b[0m \u001b[1;33m=\u001b[0m \u001b[0mdataset\u001b[0m\u001b[1;33m[\u001b[0m\u001b[1;33m[\u001b[0m\u001b[1;34m'Tricalcium_aluminate'\u001b[0m\u001b[1;33m,\u001b[0m\u001b[1;34m'Tricalcium_silicate'\u001b[0m\u001b[1;33m,\u001b[0m\u001b[1;34m'Tetracalcium_alumino_ferrite'\u001b[0m\u001b[1;33m,\u001b[0m\u001b[1;34m'Dicalcium_silicate'\u001b[0m\u001b[1;33m]\u001b[0m\u001b[1;33m]\u001b[0m\u001b[1;33m\u001b[0m\u001b[0m\n\u001b[0;32m      5\u001b[0m \u001b[0my\u001b[0m \u001b[1;33m=\u001b[0m \u001b[0mdataset\u001b[0m\u001b[1;33m[\u001b[0m\u001b[1;33m[\u001b[0m\u001b[1;34m'Heat'\u001b[0m\u001b[1;33m]\u001b[0m\u001b[1;33m]\u001b[0m\u001b[1;33m\u001b[0m\u001b[0m\n",
      "\u001b[1;31mNameError\u001b[0m: name 'pd' is not defined"
     ]
    }
   ],
   "source": [
    "pd.set_option('display.float_format', lambda x: '%.3f' % x)\n",
    "\n",
    "dataset = pd.read_csv('./data/hald_data.csv', delimiter='')[['Tricalcium_aluminate','Tricalcium_silicate','Tetracalcium_alumino_ferrite','Dicalcium_silicate']]\n",
    "X = dataset[['Tricalcium_aluminate','Tricalcium_silicate','Tetracalcium_alumino_ferrite','Dicalcium_silicate']]\n",
    "y = dataset[['Heat']]\n",
    "np.save(\"hald\",x,y)\n",
    "np.load(\"hald\")\n",
    "corrMat = X.corr()\n",
    "print(dataset)\n",
    "print('Covariate sample correlation matrix:\\n'+str(corrMat))"
   ]
  },
  {
   "cell_type": "code",
   "execution_count": null,
   "metadata": {
    "collapsed": true,
    "scrolled": true
   },
   "outputs": [],
   "source": [
    "[Evals, Evecs] = np.linalg.eig(corrMat)\n",
    "print('Eigenvalues of Covariate sample correlation matrix: \\n'+str(Evals))"
   ]
  },
  {
   "cell_type": "code",
   "execution_count": null,
   "metadata": {
    "collapsed": true
   },
   "outputs": [],
   "source": [
    "if type(X) == pd.DataFrame:\n",
    "    \n",
    "X = np.concatenate([X.as_matrix(), np.ones([X.shape[0],1])], axis = 1)\n",
    "y = y.as_matrix()\n",
    "np.save(\"hald\",X,Y)\n",
    "np.load(\"hald\")"
   ]
  },
  {
   "cell_type": "code",
   "execution_count": null,
   "metadata": {
    "collapsed": true
   },
   "outputs": [],
   "source": [
    "pd.set_option('display.float_format', lambda x: '%.5f' % x)\n",
    "\n",
    "OLS_β = np.dot( np.linalg.inv(np.dot(X.T, X)), np.dot(X.T, y))\n",
    "OLS_β_std = np.linalg.inv(np.dot(X.T, X))\n"
   ]
  },
  {
   "cell_type": "code",
   "execution_count": null,
   "metadata": {
    "collapsed": true
   },
   "outputs": [],
   "source": [
    "delta_Heat = 20.\n",
    "delta_Tricalcium_aluminate = 10.\n",
    "delta_Tricalcium_silicate = 22.5\n",
    "delta_Tetracalcium_alumino_ferrite = 8.5\n",
    "delta_Dicalcium_silicate = 27."
   ]
  },
  {
   "cell_type": "code",
   "execution_count": null,
   "metadata": {
    "collapsed": true
   },
   "outputs": [],
   "source": [
    "τ_star = np.atleast_2d(delta_heat / np.array([delta_Tricalcium_aluminate,delta_Tricalcium_silicate,delta_Tetracalcium_alumino_ferrite,delta_Dicalcium_silicate])).T\n",
    "\n",
    "stats = np.concatenate([OLS_β[:-1], np.sqrt(np.atleast_2d(np.diag(OLS_β_std)[:-1]).T), τ_star], axis = 1)\n",
    "\n",
    "stats = pd.DataFrame(stats, columns = ['OLS coefficient','OLS standard error', 'prior std τ*'], index = ['Tricalcium_aluminate','Tricalcium_silicate','Tetracalcium_alumino_ferrite','Dicalcium_silicate'])\n",
    "print(stats)"
   ]
  },
  {
   "cell_type": "code",
   "execution_count": null,
   "metadata": {
    "collapsed": true
   },
   "outputs": [],
   "source": [
    "# Formulas found here: https://pdfs.semanticscholar.org/3ace/886849dd48eb911b0491d70ef3ec197f9234.pdf\n",
    "SS_reg = (OLS_β.T.dot(X.T.dot(y)) - (1./X.shape[0])*(np.ones_like(y).T.dot(y))**2)[0,0]\n",
    "SS_total = (y.T.dot(y) - (1./X.shape[0])*(np.ones_like(y).T.dot(y))**2)[0,0]\n",
    "print('multiple correlation coef: {:.3f}'.format(SS_reg/SS_total))"
   ]
  },
  {
   "cell_type": "code",
   "execution_count": null,
   "metadata": {
    "collapsed": true
   },
   "outputs": [],
   "source": [
    "β = np.array([0,0,0,0,0]) #np.zeros([5,1])\n",
    "ϵ_squared = 2.5**2\n",
    "p = np.array([0.5,0.5,0.5,0.5,0]) #np.concatenate([0.5 * np.ones([4,1]), np.zeros([1,1])])\n",
    "τ = np.concatenate([τ_star, 9 * np.ones([1,1])]) #np.ones_like(β)\n",
    "#υ = -10 * np.ones_like(β) #np.ones([5,1]) * 10e5\n",
    "υ = np.ones([5,1]) * 10e3\n",
    "#λ = 10 * np.ones_like(β)# np.concatenate([0.1*np.ones([1,1]), 10e10 * np.ones([4,1])])\n",
    "λ = np.concatenate([0*np.ones([4,1]), -1000 * np.ones([1,1])])\n",
    "ν = 0.01\n",
    "iterations = 1000"
   ]
  },
  {
   "cell_type": "code",
   "execution_count": 6,
   "metadata": {},
   "outputs": [
    {
     "ename": "NameError",
     "evalue": "name 'var_selection' is not defined",
     "output_type": "error",
     "traceback": [
      "\u001b[1;31m---------------------------------------------------------------------------\u001b[0m",
      "\u001b[1;31mNameError\u001b[0m                                 Traceback (most recent call last)",
      "\u001b[1;32m<ipython-input-6-dc8056edb3e6>\u001b[0m in \u001b[0;36m<module>\u001b[1;34m()\u001b[0m\n\u001b[0;32m      1\u001b[0m \u001b[1;31m# TN (lambda, υ)\u001b[0m\u001b[1;33m\u001b[0m\u001b[1;33m\u001b[0m\u001b[0m\n\u001b[1;32m----> 2\u001b[1;33m \u001b[0mresult\u001b[0m \u001b[1;33m=\u001b[0m \u001b[0mvar_selection\u001b[0m\u001b[1;33m.\u001b[0m\u001b[0mvariable_selection\u001b[0m\u001b[1;33m(\u001b[0m\u001b[0mX\u001b[0m\u001b[1;33m,\u001b[0m \u001b[0my\u001b[0m\u001b[1;33m,\u001b[0m \u001b[0mβ\u001b[0m\u001b[1;33m,\u001b[0m \u001b[0mϵ_squared\u001b[0m\u001b[1;33m,\u001b[0m \u001b[0mp\u001b[0m\u001b[1;33m,\u001b[0m \u001b[0mτ\u001b[0m\u001b[1;33m,\u001b[0m \u001b[0mν\u001b[0m\u001b[1;33m,\u001b[0m \u001b[0mυ\u001b[0m\u001b[1;33m,\u001b[0m \u001b[0mλ\u001b[0m\u001b[1;33m,\u001b[0m \u001b[0miterations\u001b[0m\u001b[1;33m)\u001b[0m\u001b[1;33m\u001b[0m\u001b[0m\n\u001b[0m\u001b[0;32m      3\u001b[0m \u001b[0mnp\u001b[0m\u001b[1;33m.\u001b[0m\u001b[0msave\u001b[0m\u001b[1;33m(\u001b[0m\u001b[0mresult\u001b[0m\u001b[1;33m)\u001b[0m\u001b[1;33m\u001b[0m\u001b[0m\n",
      "\u001b[1;31mNameError\u001b[0m: name 'var_selection' is not defined"
     ]
    }
   ],
   "source": [
    "# TN (lambda, υ)\n",
    "result = var_selection.variable_selection(X, y, β, ϵ_squared, p, τ, ν, υ, λ, iterations)\n",
    "np.save(\"hald\",result)\n",
    "np.load(\"hald\")"
   ]
  },
  {
   "cell_type": "code",
   "execution_count": null,
   "metadata": {
    "collapsed": true
   },
   "outputs": [],
   "source": [
    "result[0]"
   ]
  }
 ],
 "metadata": {
  "anaconda-cloud": {},
  "kernelspec": {
   "display_name": "Python 3",
   "language": "python",
   "name": "python3"
  },
  "language_info": {
   "codemirror_mode": {
    "name": "ipython",
    "version": 3
   },
   "file_extension": ".py",
   "mimetype": "text/x-python",
   "name": "python",
   "nbconvert_exporter": "python",
   "pygments_lexer": "ipython3",
   "version": "3.6.1"
  }
 },
 "nbformat": 4,
 "nbformat_minor": 1
}
