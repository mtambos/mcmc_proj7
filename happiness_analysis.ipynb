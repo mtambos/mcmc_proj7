{
 "cells": [
  {
   "cell_type": "code",
   "execution_count": 9,
   "metadata": {
    "collapsed": true
   },
   "outputs": [],
   "source": [
    "import numpy as np\n",
    "import pickle\n",
    "import pandas as pd\n",
    "\n",
    "reportedData = {() : [0]*9,\n",
    "                (1,) : [0]*9,\n",
    "                (2,) : [0]*9,\n",
    "                (3,) : [0.0025, 0.0098, 0.0317, 0.0271, 0.0893, 0.1867, 0.1763, 0.3394, 0.5368],\n",
    "                (4,) : [0]*9,\n",
    "                (1,2) : [0]*9,\n",
    "                (1,3) : [0.0013, 0.0247, 0.0352, 0.0315, 0.0552, 0.0574, 0.0554, 0.0455, 0.0377],\n",
    "                (1,4) : [0]*9,\n",
    "                (2,3) : [0.0007, 0.0013, 0.0021, 0.0018, 0.0027, 0.0033, 0.0033, 0.0027, 0.0021],\n",
    "                (2,4) : [0]*9,\n",
    "                (3,4) : [0.1230, 0.2561, 0.4318, 0.4130, 0.5556, 0.6212, 0.6309, 0.5693, 0.4296],\n",
    "                (1,2,3) : [0.0024, 0.0024, 0.0015, 0.0014, 0.0013, 0.0007, 0.0007, 0.0003, 0.0001],\n",
    "                (1,3,4) : [0.6079, 0.5815, 0.4691, 0.4791, 0.3109, 0.1706, 0.1708, 0.0812, 0.0302],\n",
    "                (1,2,4) : [0]*9,\n",
    "                (2,3,4) : [0.0617, 0.0591, 0.0048, 0.0494, 0.0309, 0.0173, 0.0178, 0.0089, 0.0032],\n",
    "                (1,2,3,4) : [0.1887, 0.0911, 0.0370, 0.0381, 0.0120, 0.0034, 0.0036, 0.0008, 0.0001]\n",
    "                }"
   ]
  },
  {
   "cell_type": "code",
   "execution_count": 141,
   "metadata": {
    "collapsed": false
   },
   "outputs": [],
   "source": [
    "#dataPath = \"p_[ 0.2  0.2  0.2  0.2  0. ]_tau_[ 0.04  4.    2.    1.    9.  ].pickle\"; tI = 0; pI = 0\n",
    "#dataPath  = \"p_[ 0.2  0.2  0.2  0.2  0. ]_tau_[ 0.08  8.    4.    2.    9.  ].pickle\"; tI = 1; pI = 0\n",
    "#dataPath  = \"p_[ 0.2  0.2  0.2  0.2  0. ]_tau_[  0.16  16.     8.     4.     9.  ].pickle\"; tI = 2; pI = 0\n",
    "\n",
    "#dataPath = \"p_[ 0.5  0.5  0.5  0.5  0. ]_tau_[ 0.04  4.    2.    1.    9.  ].pickle\"; tI = 0; pI = 3\n",
    "dataPath  = \"p_[ 0.5  0.5  0.5  0.5  0. ]_tau_[ 0.08  8.    4.    2.    9.  ].pickle\"; tI = 1; pI = 3\n",
    "#dataPath  = \"p_[ 0.5  0.5  0.5  0.5  0. ]_tau_[  0.16  16.     8.     4.     9.  ].pickle\"; tI = 2; pI = 3\n",
    "\n",
    "#dataPath = \"p_[ 0.8  0.8  0.8  0.8  0. ]_tau_[ 0.04  4.    2.    1.    9.  ].pickle\"; tI = 0; pI = 6\n",
    "#dataPath  = \"p_[ 0.8  0.8  0.8  0.8  0. ]_tau_[ 0.08  8.    4.    2.    9.  ].pickle\"; tI = 1; pI = 6\n",
    "#dataPath  = \"p_[ 0.8  0.8  0.8  0.8  0. ]_tau_[  0.16  16.     8.     4.     9.  ].pickle\"; tI = 2; pI = 6\n",
    "\n",
    "[results, conf] = pickle.load(file = open(\"./results/\"+dataPath, 'rb'))"
   ]
  },
  {
   "cell_type": "code",
   "execution_count": 142,
   "metadata": {
    "collapsed": false
   },
   "outputs": [
    {
     "data": {
      "text/plain": [
       "1.0"
      ]
     },
     "execution_count": 142,
     "metadata": {},
     "output_type": "execute_result"
    }
   ],
   "source": [
    "β_post, var_post, chain, probs, tmp_models = results\n",
    "\n",
    "models = dict()\n",
    "for key in tmp_models.keys():\n",
    "    models[(len(key),key)] = tmp_models[key]\n",
    "\n",
    "allP1 = []    \n",
    "modelConfigs = []\n",
    "for key in sorted(models.keys()):\n",
    "    if len(key[1]) > 0 and key[1][-1] == 4:\n",
    "        modelConfigs.append(key[1][0:-1])\n",
    "        allP1.append(models[key]/float(conf['iterations']))\n",
    "        #print(\"{}: {}\".format(key[1][0:-1], models[key]/float(iterations)))\n",
    "\n",
    "\"\"\"\n",
    "This is the secondly described approach for calculating the \n",
    "posterior probabilities for each model. Instead of averaging\n",
    "over the indicator variables, we average over the relevant\n",
    "probability values.\n",
    "@param beta: array of booleans where an entry denotes whether\n",
    "the corresponding beta is non-zero. (i.e. [T,F,F,F] would be \n",
    "a model with the last 3 coefficients set to zero)\n",
    "@param probs: p-values along markov chain. (as returned by variable_selection())\n",
    "\"\"\"\n",
    "def modelProb(betas, probs):\n",
    "    anti_probs = 1 - probs\n",
    "    allProb = np.concatenate([anti_probs[:,0:-1], probs[:,0:-1]], axis = 1)\n",
    "    betas = np.atleast_2d(betas)\n",
    "    indices = np.concatenate([betas, np.invert(betas)], axis = 1)\n",
    "    return np.sum(np.product(allProb[:,indices.flatten()], axis = 1)) / allProb.shape[0]\n",
    "\n",
    "allP2 = []\n",
    "# only intercept\n",
    "allP2.append(modelProb([False, False, False, False], probs))\n",
    "# one predictor\n",
    "allP2.append(modelProb([True, False, False, False], probs))\n",
    "allP2.append(modelProb([False, True, False, False], probs))\n",
    "allP2.append(modelProb([False, False, True, False], probs))\n",
    "allP2.append(modelProb([False, False, False, True], probs))\n",
    "# two predictors\n",
    "allP2.append(modelProb([True, True, False, False], probs))\n",
    "allP2.append(modelProb([True, False, True, False], probs))\n",
    "allP2.append(modelProb([True, False, False, True], probs))\n",
    "allP2.append(modelProb([False, True, True, False], probs))\n",
    "allP2.append(modelProb([False, True, False, True], probs))\n",
    "allP2.append(modelProb([False, False, True, True], probs))\n",
    "# three predictors\n",
    "allP2.append(modelProb([True, True, True, False], probs))\n",
    "allP2.append(modelProb([True, True, False, True], probs))\n",
    "allP2.append(modelProb([True, False, True, True], probs))\n",
    "allP2.append(modelProb([False, True, True, True], probs))\n",
    "# four predictors\n",
    "allP2.append(modelProb([True, True, True, True], probs))\n",
    "\n",
    "sum(allP2)"
   ]
  },
  {
   "cell_type": "code",
   "execution_count": 146,
   "metadata": {
    "collapsed": false,
    "scrolled": true
   },
   "outputs": [
    {
     "name": "stdout",
     "output_type": "stream",
     "text": [
      "posterior(old)\tposterior(rep)\tdifference\tmodel\n",
      "0.00005\t\t0.00000\t\t+0.00005\t[]\n",
      "0.00003\t\t0.00000\t\t+0.00003\t[1]\n",
      "0.00007\t\t0.00000\t\t+0.00007\t[2]\n",
      "0.08712\t\t0.08930\t\t-0.00218\t[3]\n",
      "0.00000\t\t0.00000\t\t+0.00000\t[4]\n",
      "0.00004\t\t0.00000\t\t+0.00004\t[1 2]\n",
      "0.05027\t\t0.05520\t\t-0.00493\t[1 3]\n",
      "0.00001\t\t0.00000\t\t+0.00001\t[1 4]\n",
      "0.00265\t\t0.00270\t\t-0.00005\t[2 3]\n",
      "0.00002\t\t0.00000\t\t+0.00002\t[2 4]\n",
      "0.50537\t\t0.55560\t\t-0.05023\t[3 4]\n",
      "0.00140\t\t0.00130\t\t+0.00010\t[1 2 3]\n",
      "0.00006\t\t0.00000\t\t+0.00006\t[1 2 4]\n",
      "0.30693\t\t0.31090\t\t-0.00397\t[1 3 4]\n",
      "0.03391\t\t0.03090\t\t+0.00301\t[2 3 4]\n",
      "0.01207\t\t0.01200\t\t+0.00007\t[1 2 3 4]\n",
      "\n",
      "sum posterior(old): 0.9999999999999999\n",
      "\n",
      "sum posterior(reported): 1.0578999999999998\n",
      "\n",
      "Largest absolute difference between paper and our results: 0.05023\n"
     ]
    }
   ],
   "source": [
    "print(\"posterior(old)\\tposterior(rep)\\tdifference\\tmodel\")\n",
    "largestDiff = 0\n",
    "p1_sum = 0\n",
    "rep_sum = 0\n",
    "for k, p1 in zip(modelConfigs, allP1):\n",
    "    model = np.array(k, dtype = int)+1\n",
    "    repValue = reportedData[tuple(model)][tI+pI]\n",
    "    diff = p1 - repValue\n",
    "    p1_sum += p1\n",
    "    rep_sum += repValue\n",
    "    #print(\"diff: {}\".format(abs(diff)))\n",
    "    if abs(diff) > largestDiff: largestDiff = abs(diff)        \n",
    "    print(\"{:.5f}\\t\\t{:.5f}\\t\\t{:+.5f}\\t{}\".format(p1, repValue, diff, model))\n",
    "print(\"\\nsum posterior(old): {}\".format(p1_sum))\n",
    "print(\"\\nsum posterior(reported): {}\".format(rep_sum))\n",
    "print(\"\\nLargest absolute difference between paper and our results: {:.5f}\".format(largestDiff))"
   ]
  },
  {
   "cell_type": "code",
   "execution_count": 140,
   "metadata": {
    "collapsed": false
   },
   "outputs": [
    {
     "name": "stdout",
     "output_type": "stream",
     "text": [
      "p (reported)\tmodel(reported)\tmodel(our)\tp (our)\n",
      "\n",
      "0.536800\t(3,)      \t(3,)      \t0.508130\n",
      "0.429600\t(3, 4)    \t(3, 4)    \t0.418440\n",
      "0.037700\t(1, 3)    \t(1, 3)    \t0.035860\n",
      "0.030200\t(1, 3, 4) \t(1, 3, 4) \t0.031460\n",
      "0.003200\t(2, 3, 4) \t(2, 3, 4) \t0.003400\n",
      "0.002100\t(2, 3)    \t(2, 3)    \t0.001990\n",
      "0.000100\t(1, 2, 3, 4)\t(1, 2, 3, 4)\t0.000240\n",
      "0.000100\t(1, 2, 3) \t()        \t0.000170\n",
      "0.000000\t(4,)      \t(1, 2, 3) \t0.000110\n",
      "0.000000\t(2, 4)    \t(1,)      \t0.000050\n",
      "0.000000\t(2,)      \t(2,)      \t0.000040\n",
      "0.000000\t(1, 4)    \t(4,)      \t0.000030\n",
      "0.000000\t(1, 2, 4) \t(1, 4)    \t0.000030\n",
      "0.000000\t(1, 2)    \t(2, 4)    \t0.000020\n",
      "0.000000\t(1,)      \t(1, 2)    \t0.000020\n",
      "0.000000\t()        \t(1, 2, 4) \t0.000010\n"
     ]
    }
   ],
   "source": [
    "# Sort models by probability\n",
    "rankedReported = sorted(zip(np.array(list(reportedData.values()))[:,tI+pI],reportedData.keys()),reverse=True)\n",
    "rankedResults = sorted(zip(allP1, modelConfigs),reverse=True)\n",
    "print(\"p (reported)\\tmodel(reported)\\tmodel(our)\\tp (our)\\n\")\n",
    "for (k1, v1), (k2, v2) in zip(rankedReported, rankedResults):\n",
    "    print(\"{:5f}\\t{:10s}\\t{:10s}\\t{:5f}\".format(k1, str(v1), str(tuple(np.array(v2)+1)), k2))"
   ]
  },
  {
   "cell_type": "code",
   "execution_count": 37,
   "metadata": {
    "collapsed": false,
    "scrolled": true
   },
   "outputs": [
    {
     "name": "stdout",
     "output_type": "stream",
     "text": [
      "posterior(old)    difference     posterior(new)\t model\n",
      "0.00017 \t +0.00000 \t 0.00017 \t []\n",
      "0.00005 \t +0.00001 \t 0.00004 \t [1]\n",
      "0.00004 \t -0.00000 \t 0.00004 \t [2]\n",
      "0.50813 \t -0.00034 \t 0.50847 \t [3]\n",
      "0.00003 \t -0.00001 \t 0.00004 \t [4]\n",
      "0.00002 \t +0.00001 \t 0.00001 \t [1 2]\n",
      "0.03586 \t +0.00032 \t 0.03554 \t [1 3]\n",
      "0.00003 \t +0.00002 \t 0.00001 \t [1 4]\n",
      "0.00199 \t +0.00011 \t 0.00188 \t [2 3]\n",
      "0.00002 \t +0.00001 \t 0.00001 \t [2 4]\n",
      "0.41844 \t +0.00025 \t 0.41819 \t [3 4]\n",
      "0.00011 \t -0.00019 \t 0.00030 \t [1 2 3]\n",
      "0.00001 \t -0.00000 \t 0.00001 \t [1 2 4]\n",
      "0.03146 \t -0.00006 \t 0.03152 \t [1 3 4]\n",
      "0.00340 \t +0.00035 \t 0.00305 \t [2 3 4]\n",
      "0.00024 \t -0.00047 \t 0.00071 \t [1 2 3 4]\n"
     ]
    }
   ],
   "source": [
    "# alternative way to compute the posterior\n",
    "print(\"posterior(old)    difference     posterior(new)\\t model\")\n",
    "for k, p1, p2 in zip(modelConfigs, allP1, allP2):\n",
    "    print(\"{:.5f} \\t {:+.5f} \\t {:.5f} \\t {}\".format(p1, p1-p2, p2, np.array(k)+1))"
   ]
  },
  {
   "cell_type": "code",
   "execution_count": 16,
   "metadata": {
    "collapsed": false
   },
   "outputs": [],
   "source": [
    "dataset = pd.read_csv('./data/happyness_data.csv', delimiter=' ')[['happy','money','sex','love','work']]\n",
    "X = dataset[['money','sex','love','work']]\n",
    "y = dataset[['happy']]\n",
    "if type(X) == pd.DataFrame:\n",
    "    X = np.concatenate([X.as_matrix(), np.ones([X.shape[0],1])], axis = 1).astype(np.float64)\n",
    "    y = y.as_matrix().astype(np.float64)"
   ]
  },
  {
   "cell_type": "code",
   "execution_count": 136,
   "metadata": {
    "collapsed": false
   },
   "outputs": [
    {
     "data": {
      "image/png": "[encoded data removed]",
      "text/plain": [
       "<matplotlib.figure.Figure at 0x7f9ade0b4e48>"
      ]
     },
     "metadata": {},
     "output_type": "display_data"
    }
   ],
   "source": [
    "# This cell just creates a figure that I use in the slides\n",
    "import matplotlib\n",
    "import matplotlib.pyplot as plt\n",
    "from scipy.stats import truncnorm\n",
    "matplotlib.rc('xtick', labelsize=20) \n",
    "matplotlib.rc('ytick', labelsize=20) \n",
    "matplotlib.rc('legend', fontsize=20)\n",
    "\n",
    "a, b = 0, 9999999\n",
    "x = np.linspace(truncnorm.ppf(0.001, a, b),\n",
    "                truncnorm.ppf(0.9, a, b), 1000)\n",
    "\n",
    "plt.figure(figsize = (10,7))\n",
    "plt.plot(x, truncnorm.pdf(x, a, b, 0, 0.08),\n",
    "       'r-', lw=5, alpha=0.6, label='truncnorm pdf')\n",
    "plt.grid()\n",
    "plt.xlabel(\"$β_{Money}$\", fontsize = 25)\n",
    "plt.ylabel(\"$p(β_{Money})$\", fontsize = 25)\n",
    "plt.xlim([0, 1.5])\n",
    "plt.plot(np.ones([50,1]) * 0.08, np.arange(0,6,6/50),'b--', markersize = 10, label = '$std = τ_{Money}^* = 0.08$')\n",
    "plt.plot(np.arange(0, 0.08, 0.08/50.), 6 * np.ones([50,1]), 'b--', markersize = 10)\n",
    "plt.legend(loc = 'best')\n",
    "plt.savefig('./truncatedNormal.pdf')\n",
    "plt.show()"
   ]
  }
 ],
 "metadata": {
  "anaconda-cloud": {},
  "kernelspec": {
   "display_name": "Python [conda env:python3_5]",
   "language": "python",
   "name": "conda-env-python3_5-py"
  },
  "language_info": {
   "codemirror_mode": {
    "name": "ipython",
    "version": 3
   },
   "file_extension": ".py",
   "mimetype": "text/x-python",
   "name": "python",
   "nbconvert_exporter": "python",
   "pygments_lexer": "ipython3",
   "version": "3.5.3"
  }
 },
 "nbformat": 4,
 "nbformat_minor": 1
}
