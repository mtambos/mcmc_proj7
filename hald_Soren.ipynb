{
 "cells": [
  {
   "cell_type": "code",
   "execution_count": 1,
   "metadata": {},
   "outputs": [],
   "source": [
    "import var_selection\n",
    "import pandas as pd\n",
    "import numpy as np\n",
    "import matplotlib.pyplot as plt\n",
    "import pickle\n",
    "pd.set_option('display.float_format', lambda x: '%.3f' % x)\n",
    "np.set_printoptions(precision=4)"
   ]
  },
  {
   "cell_type": "code",
   "execution_count": 2,
   "metadata": {},
   "outputs": [
    {
     "name": "stdout",
     "output_type": "stream",
     "text": [
      "Covariate sample correlation matrix:\n",
      "                              Tricalcium_aluminate  Tricalcium_silicate  \\\n",
      "Tricalcium_aluminate                         1.000                0.229   \n",
      "Tricalcium_silicate                          0.229                1.000   \n",
      "Tetracalcium_alumino_ferrite                -0.824               -0.139   \n",
      "Dicalcium_silicate                          -0.245               -0.645   \n",
      "\n",
      "                              Tetracalcium_alumino_ferrite  Dicalcium_silicate  \n",
      "Tricalcium_aluminate                                -0.824              -0.245  \n",
      "Tricalcium_silicate                                 -0.139              -0.645  \n",
      "Tetracalcium_alumino_ferrite                         1.000               0.297  \n",
      "Dicalcium_silicate                                   0.297               1.000  \n"
     ]
    }
   ],
   "source": [
    "pd.set_option('display.float_format', lambda x: '%.3f' % x)\n",
    "\n",
    "dataset = pd.read_csv('./data/hald_data.csv', delimiter='\\t', skiprows=1, names=['Heat', 'Tricalcium_aluminate','Tricalcium_silicate','Tetracalcium_alumino_ferrite','Dicalcium_silicate'])\n",
    "X = dataset[['Tricalcium_aluminate','Tricalcium_silicate','Tetracalcium_alumino_ferrite','Dicalcium_silicate']]\n",
    "y = dataset[['Heat']]\n",
    "corrMat = X.corr()\n",
    "print('Covariate sample correlation matrix:\\n'+str(corrMat))"
   ]
  },
  {
   "cell_type": "code",
   "execution_count": 3,
   "metadata": {
    "scrolled": true
   },
   "outputs": [
    {
     "name": "stdout",
     "output_type": "stream",
     "text": [
      "Eigenvalues of Covariate sample correlation matrix: \n",
      "[ 2.2009  1.2745  0.1508  0.3737]\n"
     ]
    }
   ],
   "source": [
    "[Evals, Evecs] = np.linalg.eig(corrMat)\n",
    "print('Eigenvalues of Covariate sample correlation matrix: \\n'+str(Evals))"
   ]
  },
  {
   "cell_type": "code",
   "execution_count": 4,
   "metadata": {
    "collapsed": true
   },
   "outputs": [],
   "source": [
    "if type(X) == pd.DataFrame:\n",
    "    X = np.concatenate([X.as_matrix(), np.ones([X.shape[0],1])], axis = 1)\n",
    "    y = y.as_matrix()"
   ]
  },
  {
   "cell_type": "code",
   "execution_count": 5,
   "metadata": {
    "collapsed": true
   },
   "outputs": [],
   "source": [
    "pd.set_option('display.float_format', lambda x: '%.5f' % x)\n",
    "\n",
    "OLS_β = np.dot( np.linalg.inv(np.dot(X.T, X)), np.dot(X.T, y))\n",
    "OLS_β_std = np.linalg.inv(np.dot(X.T, X))"
   ]
  },
  {
   "cell_type": "code",
   "execution_count": 6,
   "metadata": {
    "collapsed": true
   },
   "outputs": [],
   "source": [
    "delta_Heat = 20.\n",
    "delta_Tricalcium_aluminate = 10.\n",
    "delta_Tricalcium_silicate = 22.5\n",
    "delta_Tetracalcium_alumino_ferrite = 8.5\n",
    "delta_Dicalcium_silicate = 27."
   ]
  },
  {
   "cell_type": "code",
   "execution_count": 7,
   "metadata": {},
   "outputs": [
    {
     "name": "stdout",
     "output_type": "stream",
     "text": [
      "                              OLS coefficient  OLS standard error  \\\n",
      "Tricalcium_aluminate                  1.69345             0.08980   \n",
      "Tricalcium_silicate                   0.65953             0.02523   \n",
      "Tetracalcium_alumino_ferrite          0.24612             0.08357   \n",
      "Dicalcium_silicate                    0.00414             0.02604   \n",
      "\n",
      "                              prior std τ*  \n",
      "Tricalcium_aluminate               2.00000  \n",
      "Tricalcium_silicate                0.88889  \n",
      "Tetracalcium_alumino_ferrite       2.35294  \n",
      "Dicalcium_silicate                 0.74074  \n"
     ]
    }
   ],
   "source": [
    "τ_star = np.atleast_2d(delta_Heat / np.array([delta_Tricalcium_aluminate,delta_Tricalcium_silicate,delta_Tetracalcium_alumino_ferrite,delta_Dicalcium_silicate])).T\n",
    "\n",
    "stats = np.concatenate([OLS_β[:-1], np.sqrt(np.atleast_2d(np.diag(OLS_β_std)[:-1]).T), τ_star], axis = 1)\n",
    "\n",
    "stats = pd.DataFrame(stats, columns = ['OLS coefficient','OLS standard error', 'prior std τ*'], index = ['Tricalcium_aluminate','Tricalcium_silicate','Tetracalcium_alumino_ferrite','Dicalcium_silicate'])\n",
    "print(stats)"
   ]
  },
  {
   "cell_type": "code",
   "execution_count": 8,
   "metadata": {},
   "outputs": [
    {
     "name": "stdout",
     "output_type": "stream",
     "text": [
      "multiple correlation coef: 0.982\n"
     ]
    }
   ],
   "source": [
    "# Formulas found here: https://pdfs.semanticscholar.org/3ace/886849dd48eb911b0491d70ef3ec197f9234.pdf\n",
    "SS_reg = (OLS_β.T.dot(X.T.dot(y)) - (1./X.shape[0])*(np.ones_like(y).T.dot(y))**2)[0,0]\n",
    "SS_total = (y.T.dot(y) - (1./X.shape[0])*(np.ones_like(y).T.dot(y))**2)[0,0]\n",
    "print('multiple correlation coef: {:.3f}'.format(SS_reg/SS_total))"
   ]
  },
  {
   "cell_type": "code",
   "execution_count": 9,
   "metadata": {
    "collapsed": true
   },
   "outputs": [],
   "source": [
    "β = np.array([0,0,0,0,0], dtype = float) #np.zeros([5,1])\n",
    "ϵ_squared = 2.5**2\n",
    "p = np.array([0.5,0.5,0.5,0.5,0]) #np.concatenate([0.5 * np.ones([4,1]), np.zeros([1,1])])\n",
    "τ = np.concatenate([τ_star, 9 * np.ones([1,1])]) #np.ones_like(β)\n",
    "λ = -1 * np.ones([5,1]) * np.infty\n",
    "υ = np.ones([5,1]) * np.infty\n",
    "ν = 0.01\n",
    "iterations = 1000000"
   ]
  },
  {
   "cell_type": "code",
   "execution_count": null,
   "metadata": {
    "scrolled": true
   },
   "outputs": [
    {
     "name": "stdout",
     "output_type": "stream",
     "text": [
      "0th iteration\n",
      "Error: 446713.02609893045\n",
      "β: [  0.      -1.3344   0.       0.     -22.7623]\n",
      "σ²: 5.303818446833617e+72, σ: 2.3030020509833717e+36\n",
      "\n"
     ]
    },
    {
     "name": "stderr",
     "output_type": "stream",
     "text": [
      "/home/mtambos/google_drive/Projects/mcm/project/var_selection.py:36: RuntimeWarning: overflow encountered in exp\n",
      "  bf = np.exp(β_bar**2/(2*var_star) - β_old**2/(2*τ**2))\n"
     ]
    },
    {
     "name": "stdout",
     "output_type": "stream",
     "text": [
      "100000th iteration\n",
      "Error: 58.858944422186426\n",
      "β: [  1.4662   0.6751   0.       0.      52.1648]\n",
      "σ²: 4.391246051292085, σ: 2.095530016795771\n",
      "\n",
      "200000th iteration\n",
      "Error: 72.11512292259124\n",
      "β: [  1.5827   0.5996   0.       0.      55.0139]\n",
      "σ²: 3.527151855435038, σ: 1.8780713126596227\n",
      "\n",
      "300000th iteration\n",
      "Error: 82.87061186661005\n",
      "β: [  1.6967   0.5904   0.4263   0.      48.8458]\n",
      "σ²: 5.65466016881486, σ: 2.3779529366273966\n",
      "\n",
      "400000th iteration\n",
      "Error: 70.07041528508307\n",
      "β: [  1.3052   0.6918   0.       0.      52.6516]\n",
      "σ²: 6.156267732113758, σ: 2.4811827284812695\n",
      "\n",
      "500000th iteration\n",
      "Error: 71.67623368558438\n",
      "β: [  1.4343   0.617    0.       0.      55.722 ]\n",
      "σ²: 3.2627316673627207, σ: 1.8063033154381134\n",
      "\n",
      "600000th iteration\n",
      "Error: 81.757953726633\n",
      "β: [  1.6013   0.606    0.       0.      55.2156]\n",
      "σ²: 6.456894485142944, σ: 2.541042007748582\n",
      "\n",
      "700000th iteration\n",
      "Error: 63.42497393668697\n",
      "β: [  1.3556   0.6681   0.       0.      52.9438]\n",
      "σ²: 5.963100224991428, σ: 2.4419459914157455\n",
      "\n",
      "800000th iteration\n",
      "Error: 239.13107390213602\n",
      "β: [  2.1078   0.6628   0.       0.      46.8483]\n",
      "σ²: 56.72357585523341, σ: 7.5315055503686255\n",
      "\n",
      "900000th iteration\n",
      "Error: 63.933203930658344\n",
      "β: [  1.3499   0.6598   0.       0.      53.5201]\n",
      "σ²: 4.86528131404921, σ: 2.2057382696161416\n",
      "\n"
     ]
    }
   ],
   "source": [
    "# TN (lambda, υ)\n",
    "results = var_selection.variable_selection(X, y, β, ϵ_squared, p, τ, ν, υ, λ, iterations, verbose=10)\n",
    "pickle.dump(file = open(\"./results/hald/1000000/p_0.5_tau_1.pickle\", 'wb'), obj=results)"
   ]
  },
  {
   "cell_type": "code",
   "execution_count": null,
   "metadata": {
    "collapsed": true
   },
   "outputs": [],
   "source": []
  }
 ],
 "metadata": {
  "anaconda-cloud": {},
  "kernelspec": {
   "display_name": "Python3",
   "language": "python",
   "name": "python3"
  },
  "language_info": {
   "codemirror_mode": {
    "name": "ipython",
    "version": 3
   },
   "file_extension": ".py",
   "mimetype": "text/x-python",
   "name": "python",
   "nbconvert_exporter": "python",
   "pygments_lexer": "ipython3",
   "version": "3.6.1"
  },
  "toc": {
   "colors": {
    "hover_highlight": "#DAA520",
    "navigate_num": "#000000",
    "navigate_text": "#333333",
    "running_highlight": "#FF0000",
    "selected_highlight": "#FFD700",
    "sidebar_border": "#EEEEEE",
    "wrapper_background": "#FFFFFF"
   },
   "moveMenuLeft": true,
   "nav_menu": {
    "height": "12px",
    "width": "252px"
   },
   "navigate_menu": true,
   "number_sections": true,
   "sideBar": true,
   "threshold": 4,
   "toc_cell": false,
   "toc_section_display": "block",
   "toc_window_display": false,
   "widenNotebook": false
  }
 },
 "nbformat": 4,
 "nbformat_minor": 1
}
