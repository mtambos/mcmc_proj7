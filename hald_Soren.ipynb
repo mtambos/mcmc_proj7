{
 "cells": [
  {
   "cell_type": "code",
   "execution_count": 34,
   "metadata": {
    "collapsed": false
   },
   "outputs": [],
   "source": [
    "import var_selection\n",
    "import pandas as pd\n",
    "import numpy as np\n",
    "import matplotlib.pyplot as plt\n",
    "import pickle\n",
    "pd.set_option('display.float_format', lambda x: '%.3f' % x)\n",
    "np.set_printoptions(precision=4)"
   ]
  },
  {
   "cell_type": "code",
   "execution_count": 35,
   "metadata": {
    "collapsed": false
   },
   "outputs": [
    {
     "name": "stdout",
     "output_type": "stream",
     "text": [
      "Covariate sample correlation matrix:\n",
      "                              Tricalcium_aluminate  Tricalcium_silicate  \\\n",
      "Tricalcium_aluminate                         1.000                0.229   \n",
      "Tricalcium_silicate                          0.229                1.000   \n",
      "Tetracalcium_alumino_ferrite                -0.824               -0.139   \n",
      "Dicalcium_silicate                          -0.245               -0.645   \n",
      "\n",
      "                              Tetracalcium_alumino_ferrite  Dicalcium_silicate  \n",
      "Tricalcium_aluminate                                -0.824              -0.245  \n",
      "Tricalcium_silicate                                 -0.139              -0.645  \n",
      "Tetracalcium_alumino_ferrite                         1.000               0.297  \n",
      "Dicalcium_silicate                                   0.297               1.000  \n"
     ]
    }
   ],
   "source": [
    "pd.set_option('display.float_format', lambda x: '%.3f' % x)\n",
    "\n",
    "dataset = pd.read_csv('./data/hald_data.csv', delimiter='\\t', skiprows=1, names=['Heat', 'Tricalcium_aluminate','Tricalcium_silicate','Tetracalcium_alumino_ferrite','Dicalcium_silicate'])\n",
    "X = dataset[['Tricalcium_aluminate','Tricalcium_silicate','Tetracalcium_alumino_ferrite','Dicalcium_silicate']]\n",
    "y = dataset[['Heat']]\n",
    "corrMat = X.corr()\n",
    "print('Covariate sample correlation matrix:\\n'+str(corrMat))"
   ]
  },
  {
   "cell_type": "code",
   "execution_count": 36,
   "metadata": {
    "collapsed": false,
    "scrolled": true
   },
   "outputs": [
    {
     "name": "stdout",
     "output_type": "stream",
     "text": [
      "Eigenvalues of Covariate sample correlation matrix: \n",
      "[ 2.2009  1.2745  0.1508  0.3737]\n"
     ]
    }
   ],
   "source": [
    "[Evals, Evecs] = np.linalg.eig(corrMat)\n",
    "print('Eigenvalues of Covariate sample correlation matrix: \\n'+str(Evals))"
   ]
  },
  {
   "cell_type": "code",
   "execution_count": 37,
   "metadata": {
    "collapsed": true
   },
   "outputs": [],
   "source": [
    "if type(X) == pd.DataFrame:\n",
    "    X = np.concatenate([X.as_matrix(), np.ones([X.shape[0],1])], axis = 1)\n",
    "    y = y.as_matrix()"
   ]
  },
  {
   "cell_type": "code",
   "execution_count": 38,
   "metadata": {
    "collapsed": true
   },
   "outputs": [],
   "source": [
    "pd.set_option('display.float_format', lambda x: '%.5f' % x)\n",
    "\n",
    "OLS_β = np.dot( np.linalg.inv(np.dot(X.T, X)), np.dot(X.T, y))\n",
    "OLS_β_std = np.linalg.inv(np.dot(X.T, X))"
   ]
  },
  {
   "cell_type": "code",
   "execution_count": 39,
   "metadata": {
    "collapsed": true
   },
   "outputs": [],
   "source": [
    "delta_Heat = 20.\n",
    "delta_Tricalcium_aluminate = 10.\n",
    "delta_Tricalcium_silicate = 22.5\n",
    "delta_Tetracalcium_alumino_ferrite = 8.5\n",
    "delta_Dicalcium_silicate = 27."
   ]
  },
  {
   "cell_type": "code",
   "execution_count": 40,
   "metadata": {
    "collapsed": false
   },
   "outputs": [
    {
     "name": "stdout",
     "output_type": "stream",
     "text": [
      "                              OLS coefficient  OLS standard error  \\\n",
      "Tricalcium_aluminate                  1.69345             0.08980   \n",
      "Tricalcium_silicate                   0.65953             0.02523   \n",
      "Tetracalcium_alumino_ferrite          0.24612             0.08357   \n",
      "Dicalcium_silicate                    0.00414             0.02604   \n",
      "\n",
      "                              prior std τ*  \n",
      "Tricalcium_aluminate               2.00000  \n",
      "Tricalcium_silicate                0.88889  \n",
      "Tetracalcium_alumino_ferrite       2.35294  \n",
      "Dicalcium_silicate                 0.74074  \n"
     ]
    }
   ],
   "source": [
    "τ_star = np.atleast_2d(delta_Heat / np.array([delta_Tricalcium_aluminate,delta_Tricalcium_silicate,delta_Tetracalcium_alumino_ferrite,delta_Dicalcium_silicate])).T\n",
    "\n",
    "stats = np.concatenate([OLS_β[:-1], np.sqrt(np.atleast_2d(np.diag(OLS_β_std)[:-1]).T), τ_star], axis = 1)\n",
    "\n",
    "stats = pd.DataFrame(stats, columns = ['OLS coefficient','OLS standard error', 'prior std τ*'], index = ['Tricalcium_aluminate','Tricalcium_silicate','Tetracalcium_alumino_ferrite','Dicalcium_silicate'])\n",
    "print(stats)"
   ]
  },
  {
   "cell_type": "code",
   "execution_count": 41,
   "metadata": {
    "collapsed": false
   },
   "outputs": [
    {
     "name": "stdout",
     "output_type": "stream",
     "text": [
      "multiple correlation coef: 0.982\n"
     ]
    }
   ],
   "source": [
    "# Formulas found here: https://pdfs.semanticscholar.org/3ace/886849dd48eb911b0491d70ef3ec197f9234.pdf\n",
    "SS_reg = (OLS_β.T.dot(X.T.dot(y)) - (1./X.shape[0])*(np.ones_like(y).T.dot(y))**2)[0,0]\n",
    "SS_total = (y.T.dot(y) - (1./X.shape[0])*(np.ones_like(y).T.dot(y))**2)[0,0]\n",
    "print('multiple correlation coef: {:.3f}'.format(SS_reg/SS_total))"
   ]
  },
  {
   "cell_type": "code",
   "execution_count": 45,
   "metadata": {
    "collapsed": true
   },
   "outputs": [],
   "source": [
    "β = np.array([0,0,0,0,0], dtype = float) #np.zeros([5,1])\n",
    "ϵ_squared = 2.5**2\n",
    "p = np.array([0.5,0.5,0.5,0.5,0]) #np.concatenate([0.5 * np.ones([4,1]), np.zeros([1,1])])\n",
    "τ = np.concatenate([τ_star, 9 * np.ones([1,1])]) #np.ones_like(β)\n",
    "λ = -1 * np.ones([5,1]) * np.infty\n",
    "υ = np.ones([5,1]) * np.infty\n",
    "ν = 0.01\n",
    "iterations = 1000000"
   ]
  },
  {
   "cell_type": "code",
   "execution_count": null,
   "metadata": {
    "collapsed": false
   },
   "outputs": [
    {
     "name": "stderr",
     "output_type": "stream",
     "text": [
      "/home/soren/Studium/MonteCarlo/mcmc_proj7/var_selection.py:36: RuntimeWarning: overflow encountered in exp\n",
      "  bf = np.exp(β_bar**2/(2*var_star) - β_old**2/(2*τ**2))\n"
     ]
    }
   ],
   "source": [
    "# TN (lambda, υ)\n",
    "results = var_selection.variable_selection(X, y, β, ϵ_squared, p, τ, ν, υ, λ, iterations)\n",
    "pickle.dump(file = open(\"./results/hald/1000000/p_0.5_tau_1.pickle\", 'wb'), obj=results)"
   ]
  },
  {
   "cell_type": "code",
   "execution_count": null,
   "metadata": {
    "collapsed": true
   },
   "outputs": [],
   "source": []
  }
 ],
 "metadata": {
  "anaconda-cloud": {},
  "kernelspec": {
   "display_name": "Python 3",
   "language": "python",
   "name": "python3"
  },
  "language_info": {
   "codemirror_mode": {
    "name": "ipython",
    "version": 3
   },
   "file_extension": ".py",
   "mimetype": "text/x-python",
   "name": "python",
   "nbconvert_exporter": "python",
   "pygments_lexer": "ipython3",
   "version": "3.4.3"
  }
 },
 "nbformat": 4,
 "nbformat_minor": 1
}
