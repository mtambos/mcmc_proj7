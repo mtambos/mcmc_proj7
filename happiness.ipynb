{
 "cells": [
  {
   "cell_type": "code",
   "execution_count": 1,
   "metadata": {
    "collapsed": false
   },
   "outputs": [],
   "source": [
    "%load_ext autoreload\n",
    "%autoreload 2\n",
    "import var_selection\n",
    "import pickle\n",
    "import pandas as pd\n",
    "import numpy as np\n",
    "import matplotlib.pyplot as plt\n",
    "\n",
    "pd.set_option('display.float_format', lambda x: '%.3f' % x)\n",
    "np.set_printoptions(precision=4)"
   ]
  },
  {
   "cell_type": "code",
   "execution_count": 2,
   "metadata": {
    "collapsed": false
   },
   "outputs": [
    {
     "name": "stdout",
     "output_type": "stream",
     "text": [
      "Covariate sample correlation matrix:\n",
      "       money    sex  love   work\n",
      "money  1.000  0.307 0.126  0.068\n",
      "sex    0.307  1.000 0.047 -0.316\n",
      "love   0.126  0.047 1.000  0.386\n",
      "work   0.068 -0.316 0.386  1.000\n",
      "\n",
      "number of datapoints: 39\n"
     ]
    }
   ],
   "source": [
    "pd.set_option('display.float_format', lambda x: '%.3f' % x)\n",
    "\n",
    "dataset = pd.read_csv('./data/happyness_data.csv', delimiter=' ')[['happy','money','sex','love','work']]\n",
    "X = dataset[['money','sex','love','work']]\n",
    "y = dataset[['happy']]\n",
    "corrMat = X.corr()\n",
    "print('Covariate sample correlation matrix:\\n'+str(corrMat))\n",
    "print('\\nnumber of datapoints: {:d}'.format(X.shape[0]))"
   ]
  },
  {
   "cell_type": "markdown",
   "metadata": {},
   "source": [
    "#### Value are identical to those in the paper (page 16)."
   ]
  },
  {
   "cell_type": "code",
   "execution_count": 3,
   "metadata": {
    "collapsed": false
   },
   "outputs": [
    {
     "name": "stdout",
     "output_type": "stream",
     "text": [
      "Eigenvalues of Covariate sample correlation matrix: \n",
      "[ 0.4405  0.7356  1.3468  1.4771]\n"
     ]
    }
   ],
   "source": [
    "[Evals, Evecs] = np.linalg.eig(corrMat)\n",
    "print('Eigenvalues of Covariate sample correlation matrix: \\n'+str(Evals))"
   ]
  },
  {
   "cell_type": "markdown",
   "metadata": {},
   "source": [
    "#### Value are identical to those in the paper (page 16)."
   ]
  },
  {
   "cell_type": "code",
   "execution_count": 4,
   "metadata": {
    "collapsed": false
   },
   "outputs": [],
   "source": [
    "# convert pandas to numpy\n",
    "if type(X) == pd.DataFrame:\n",
    "    X = np.concatenate([X.as_matrix(), np.ones([X.shape[0],1])], axis = 1).astype(np.float64)\n",
    "    y = y.as_matrix().astype(np.float64)"
   ]
  },
  {
   "cell_type": "code",
   "execution_count": 5,
   "metadata": {
    "collapsed": false
   },
   "outputs": [
    {
     "name": "stdout",
     "output_type": "stream",
     "text": [
      "       OLS coefficient  OLS standard error  prior std τ*\n",
      "money          0.00958             0.00521       0.08000\n",
      "sex           -0.14901             0.41836       8.00000\n",
      "love           1.91928             0.29533       4.00000\n",
      "work           0.47608             0.19931       2.00000\n"
     ]
    }
   ],
   "source": [
    "pd.set_option('display.float_format', lambda x: '%.5f' % x)\n",
    "\n",
    "# ordinary least squares solutions\n",
    "OLS_β = np.dot( np.linalg.inv(np.dot(X.T, X)), np.dot(X.T, y))\n",
    "\n",
    "# standard deviation for ordinary least squares solution\n",
    "# check out this: https://stats.stackexchange.com/questions/216335/standard-error-for-a-parameter-in-ordinary-least-squares\n",
    "error = y - X.dot(OLS_β)\n",
    "norm_sq_error = error.T.dot(error).flatten()[0]/36 # not sure about the 36 but this way it is closest to the paper\n",
    "OLS_β_var = norm_sq_error * np.linalg.inv(np.dot(X.T, X))\n",
    "OLS_β_std =  np.sqrt(norm_sq_error * np.atleast_2d(np.diag(OLS_β_var)[:-1]).T)\n",
    "\n",
    "# priors for τ_star\n",
    "delta_happiness = 4.\n",
    "delta_money = 50.\n",
    "delta_sex = 0.5\n",
    "delta_love = 1.\n",
    "delta_work = 2.\n",
    "τ_star = np.atleast_2d(delta_happiness / np.array([delta_money,delta_sex,delta_love,delta_work])).T\n",
    "\n",
    "stats = np.concatenate([OLS_β[:-1], OLS_β_std, τ_star], axis = 1)\n",
    "stats = pd.DataFrame(stats, columns = ['OLS coefficient','OLS standard error', 'prior std τ*'], index = ['money','sex','love','work'])\n",
    "print(stats)"
   ]
  },
  {
   "cell_type": "markdown",
   "metadata": {},
   "source": [
    "#### These values are very similar to those in the paper (page 16).  "
   ]
  },
  {
   "cell_type": "code",
   "execution_count": 6,
   "metadata": {
    "collapsed": false
   },
   "outputs": [
    {
     "name": "stdout",
     "output_type": "stream",
     "text": [
      "multiple correlation coef: 0.710\n"
     ]
    }
   ],
   "source": [
    "# Formulas found here: https://pdfs.semanticscholar.org/3ace/886849dd48eb911b0491d70ef3ec197f9234.pdf\n",
    "SS_reg = (OLS_β.T.dot(X.T.dot(y)) - (1./X.shape[0])*(np.ones_like(y).T.dot(y))**2)[0,0]\n",
    "SS_total = (y.T.dot(y) - (1./X.shape[0])*(np.ones_like(y).T.dot(y))**2)[0,0]\n",
    "print('multiple correlation coef: {:.3f}'.format(SS_reg/SS_total))"
   ]
  },
  {
   "cell_type": "markdown",
   "metadata": {},
   "source": [
    "#### According to the paper the prior mean of the multiple correlation coefficient is 0.75. (?)"
   ]
  },
  {
   "cell_type": "code",
   "execution_count": null,
   "metadata": {
    "collapsed": false
   },
   "outputs": [
    {
     "name": "stdout",
     "output_type": "stream",
     "text": [
      "The autoreload extension is already loaded. To reload it, use:\n",
      "  %reload_ext autoreload\n",
      "Running: p = 0.2, tauFactor = 0.5\n",
      "0th iteration\n",
      "Error: 2473.8380233711896\n",
      "β: [ 0.0814  0.      0.4576  1.2063  3.9626]\n",
      "σ²: 1.4063778163852128e+113, σ: 3.7501704179746454e+56\n",
      "\n"
     ]
    },
    {
     "name": "stderr",
     "output_type": "stream",
     "text": [
      "/home/soren/Studium/MonteCarlo/mcmc_proj7/var_selection.py:37: RuntimeWarning: overflow encountered in exp\n",
      "  bf = np.exp(β_bar**2/(2*var_star) - β_old**2/(2*τ**2))\n"
     ]
    }
   ],
   "source": [
    "%load_ext autoreload\n",
    "%autoreload 2\n",
    "import var_selection\n",
    "\n",
    "for pp in [0.2, 0.5, 0.8]:\n",
    "    for tauFactor in [0.5, 1., 2.]:\n",
    "        \n",
    "        print(\"Running: p = {}, tauFactor = {}\".format(pp, tauFactor))\n",
    "        \n",
    "        # define subjective parameters\n",
    "        conf = dict()\n",
    "        conf[\"β\"] = np.array([0., 0., 0., 0., 0.], dtype='float')\n",
    "        conf[\"ϵ_sq\"] = 2.5**2\n",
    "        conf[\"υ\"] = np.ones([5,1]) * np.infty\n",
    "        conf[\"λ\"] = np.concatenate([np.zeros([4,1]), -np.infty * np.ones([1,1])])\n",
    "        conf[\"ν\"] = 0.01\n",
    "        conf[\"p\"] = np.array([pp, pp, pp, pp, 0], dtype='float')\n",
    "        conf[\"τ\"] = np.concatenate([tauFactor * τ_star, 9 * np.ones([1,1])])\n",
    "        conf[\"iterations\"] = 1000000\n",
    "\n",
    "        # β_post, var_post, chain, probs, tmp_models\n",
    "        results= var_selection.variable_selection(X, y, conf[\"β\"], conf[\"ϵ_sq\"], conf[\"p\"], conf[\"τ\"], conf[\"ν\"], \n",
    "                                                  conf[\"υ\"], conf[\"λ\"], conf[\"iterations\"], verbose = 100000)\n",
    "        \n",
    "        pickle.dump(file = open(\"./results/1000000/p_\"+str(conf[\"p\"])+\"_tau_\"+str(conf[\"τ\"].flatten())+\".pickle\", 'wb'), \n",
    "                    obj=[results,conf])\n"
   ]
  },
  {
   "cell_type": "code",
   "execution_count": null,
   "metadata": {
    "collapsed": false
   },
   "outputs": [],
   "source": [
    "p02t05 = \"p_[ 0.2  0.2  0.2  0.2  0. ]_tau_[ 0.04  4.    2.    1.    9.  ].pickle\"\n",
    "p02t1 = \"p_[ 0.2  0.2  0.2  0.2  0. ]_tau_[ 0.08  8.    4.    2.    9.  ].pickle\"\n",
    "p02t2 = \"p_[ 0.2  0.2  0.2  0.2  0. ]_tau_[  0.16  16.     8.     4.     9.  ].pickle\"\n",
    "\n",
    "#[results, config] = pickle.load(file = open(\"./results/\"+p02t2, 'rb'))"
   ]
  }
 ],
 "metadata": {
  "anaconda-cloud": {},
  "kernelspec": {
   "display_name": "Python [conda env:python3_5]",
   "language": "python",
   "name": "conda-env-python3_5-py"
  },
  "language_info": {
   "codemirror_mode": {
    "name": "ipython",
    "version": 3
   },
   "file_extension": ".py",
   "mimetype": "text/x-python",
   "name": "python",
   "nbconvert_exporter": "python",
   "pygments_lexer": "ipython3",
   "version": "3.5.3"
  }
 },
 "nbformat": 4,
 "nbformat_minor": 1
}
